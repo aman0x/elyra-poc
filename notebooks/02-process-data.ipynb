{
 "cells": [
  {
   "cell_type": "markdown",
   "metadata": {},
   "source": [
    "# Data Processing Notebook\n",
    "\n",
    "This notebook processes the raw weather data generated in the previous step."
   ]
  },
  {
   "cell_type": "code",
   "execution_count": null,
   "metadata": {},
   "source": [
    "import pandas as pd\n",
    "import numpy as np\n",
    "import os\n",
    "\n",
    "print(\"Starting data processing...\")"
   ]
  },
  {
   "cell_type": "code",
   "execution_count": null,
   "metadata": {},
   "source": [
    "# Ensure data directory exists\n",
    "os.makedirs('data', exist_ok=True)"
   ]
  },
  {
   "cell_type": "code",
   "execution_count": null,
   "metadata": {},
   "source": [
    "# Load the raw data\n",
    "input_file = 'data/raw_weather_data.csv'\n",
    "print(f\"Loading data from {input_file}\")\n",
    "\n",
    "try:\n",
    "    df = pd.read_csv(input_file)\n",
    "    print(f\"Loaded {len(df)} rows of data\")\n",
    "    print(df.head())\n",
    "except FileNotFoundError:\n",
    "    print(f\"Error: Could not find {input_file}\")\n",
    "    raise"
   ]
  },
  {
   "cell_type": "code",
   "execution_count": null,
   "metadata": {},
   "source": [
    "# Process the data\n",
    "def process_data(df):\n",
    "    # Convert date to datetime\n",
    "    df['date'] = pd.to_datetime(df['date'])\n",
    "    \n",
    "    # Add some derived features\n",
    "    df['day_of_week'] = df['date'].dt.day_name()\n",
    "    df['month'] = df['date'].dt.month_name()\n",
    "    \n",
    "    # Calculate rolling averages\n",
    "    df['temperature_7day_avg'] = df['temperature'].rolling(window=7, min_periods=1).mean()\n",
    "    df['humidity_7day_avg'] = df['humidity'].rolling(window=7, min_periods=1).mean()\n",
    "    df['pressure_7day_avg'] = df['pressure'].rolling(window=7, min_periods=1).mean()\n",
    "    \n",
    "    # Flag extreme values\n",
    "    df['extreme_temp'] = np.where(\n",
    "        (df['temperature'] > df['temperature'].mean() + 2*df['temperature'].std()) | \n",
    "        (df['temperature'] < df['temperature'].mean() - 2*df['temperature'].std()),\n",
    "        True, False\n",
    "    )\n",
    "    \n",
    "    return df\n",
    "\n",
    "# Process the data\n",
    "processed_df = process_data(df)\n",
    "print(\"Data processing complete\")\n",
    "print(processed_df.head())"
   ]
  },
  {
   "cell_type": "code",
   "execution_count": null,
   "metadata": {},
   "source": [
    "# Save processed data\n",
    "output_file = 'data/processed_weather_data.csv'\n",
    "processed_df.to_csv(output_file, index=False)\n",
    "print(f\"Processed data saved to {output_file}\")"
   ]
  },
  {
   "cell_type": "code",
   "execution_count": null,
   "metadata": {},
   "source": [
    "print(\"Data processing complete!\")"
   ]
  }
 ],
 "metadata": {
  "kernelspec": {
   "display_name": "Python 3",
   "language": "python",
   "name": "python3"
  },
  "language_info": {
   "codemirror_mode": {
    "name": "ipython",
    "version": 3
   },
   "file_extension": ".py",
   "mimetype": "text/x-python",
   "name": "python",
   "nbconvert_exporter": "python",
   "pygments_lexer": "ipython3",
   "version": "3.8.10"
  }
 },
 "nbformat": 4,
 "nbformat_minor": 4
}
