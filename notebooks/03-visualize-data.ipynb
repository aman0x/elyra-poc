{
 "cells": [
  {
   "cell_type": "markdown",
   "metadata": {},
   "source": [
    "# Data Visualization Notebook\n",
    "\n",
    "This notebook creates visualizations from the processed weather data."
   ]
  },
  {
   "cell_type": "code",
   "execution_count": null,
   "metadata": {},
   "source": [
    "import pandas as pd\n",
    "import matplotlib.pyplot as plt\n",
    "import seaborn as sns\n",
    "import os\n",
    "\n",
    "print(\"Starting data visualization...\")"
   ]
  },
  {
   "cell_type": "code",
   "execution_count": null,
   "metadata": {},
   "source": [
    "# Set style\n",
    "sns.set(style=\"whitegrid\")\n",
    "plt.rcParams[\"figure.figsize\"] = (12, 6)"
   ]
  },
  {
   "cell_type": "code",
   "execution_count": null,
   "metadata": {},
   "source": [
    "# Ensure directories exist\n",
    "os.makedirs('data', exist_ok=True)\n",
    "os.makedirs('output', exist_ok=True)\n",
    "print(\"Created output directory for visualizations\")"
   ]
  },
  {
   "cell_type": "code",
   "execution_count": null,
   "metadata": {},
   "source": [
    "# Load the processed data\n",
    "input_file = 'data/processed_weather_data.csv'\n",
    "print(f\"Loading data from {input_file}\")\n",
    "\n",
    "try:\n",
    "    df = pd.read_csv(input_file)\n",
    "    df['date'] = pd.to_datetime(df['date'])\n",
    "    print(f\"Loaded {len(df)} rows of processed data\")\n",
    "except FileNotFoundError:\n",
    "    print(f\"Error: Could not find {input_file}\")\n",
    "    raise"
   ]
  },
  {
   "cell_type": "code",
   "execution_count": null,
   "metadata": {},
   "source": [
    "# Create visualizations\n",
    "def create_visualizations(df):\n",
    "    # Time series plot of temperature\n",
    "    plt.figure(figsize=(12, 6))\n",
    "    plt.plot(df['date'], df['temperature'], label='Daily Temperature', color='red', alpha=0.7)\n",
    "    plt.plot(df['date'], df['temperature_7day_avg'], label='7-day Average', color='blue', linewidth=2)\n",
    "    plt.title('Temperature Over Time')\n",
    "    plt.xlabel('Date')\n",
    "    plt.ylabel('Temperature (°C)')\n",
    "    plt.legend()\n",
    "    plt.tight_layout()\n",
    "    plt.savefig('output/temperature_time_series.png')\n",
    "    plt.close()\n",
    "    print(\"Created temperature time series plot\")\n",
    "    \n",
    "    # Correlation heatmap\n",
    "    plt.figure(figsize=(10, 8))\n",
    "    numeric_cols = ['temperature', 'humidity', 'pressure', \n",
    "                    'temperature_7day_avg', 'humidity_7day_avg', 'pressure_7day_avg']\n",
    "    corr = df[numeric_cols].corr()\n",
    "    sns.heatmap(corr, annot=True, cmap='coolwarm', vmin=-1, vmax=1)\n",
    "    plt.title('Correlation Between Weather Metrics')\n",
    "    plt.tight_layout()\n",
    "    plt.savefig('output/correlation_heatmap.png')\n",
    "    plt.close()\n",
    "    print(\"Created correlation heatmap\")\n",
    "    \n",
    "    # Box plot by day of week\n",
    "    plt.figure(figsize=(14, 7))\n",
    "    sns.boxplot(x='day_of_week', y='temperature', data=df, \n",
    "                order=['Monday', 'Tuesday', 'Wednesday', 'Thursday', 'Friday', 'Saturday', 'Sunday'])\n",
    "    plt.title('Temperature Distribution by Day of Week')\n",
    "    plt.xlabel('Day of Week')\n",
    "    plt.ylabel('Temperature (°C)')\n",
    "    plt.tight_layout()\n",
    "    plt.savefig('output/temperature_by_day.png')\n",
    "    plt.close()\n",
    "    print(\"Created temperature by day of week plot\")\n",
    "    \n",
    "    # Create a summary report\n",
    "    with open('output/weather_report.md', 'w') as f:\n",
    "        f.write('# Weather Data Analysis Report\\n\\n')\n",
    "        f.write(f'Analysis date: {pd.Timestamp.now().strftime(\"%Y-%m-%d\")}\\n\\n')\n",
    "        f.write(f'Data period: {df[\"date\"].min().strftime(\"%Y-%m-%d\")} to {df[\"date\"].max().strftime(\"%Y-%m-%d\")}\\n\\n')\n",
    "        f.write('## Summary Statistics\\n\\n')\n",
    "        f.write('### Temperature\\n')\n",
    "        f.write(f'- Average: {df[\"temperature\"].mean():.2f}°C\\n')\n",
    "        f.write(f'- Minimum: {df[\"temperature\"].min():.2f}°C\\n')\n",
    "        f.write(f'- Maximum: {df[\"temperature\"].max():.2f}°C\\n\\n')\n",
    "        f.write('### Humidity\\n')\n",
    "        f.write(f'- Average: {df[\"humidity\"].mean():.2f}%\\n')\n",
    "        f.write(f'- Minimum: {df[\"humidity\"].min():.2f}%\\n')\n",
    "        f.write(f'- Maximum: {df[\"humidity\"].max():.2f}%\\n\\n')\n",
    "        f.write('### Pressure\\n')\n",
    "        f.write(f'- Average: {df[\"pressure\"].mean():.2f} hPa\\n')\n",
    "        f.write(f'- Minimum: {df[\"pressure\"].min():.2f} hPa\\n')\n",
    "        f.write(f'- Maximum: {df[\"pressure\"].max():.2f} hPa\\n\\n')\n",
    "        f.write('## Visualizations\\n\\n')\n",
    "        f.write('1. Temperature Over Time (temperature_time_series.png)\\n')\n",
    "        f.write('2. Correlation Between Weather Metrics (correlation_heatmap.png)\\n')\n",
    "        f.write('3. Temperature Distribution by Day of Week (temperature_by_day.png)\\n')\n",
    "    print(\"Created summary report\")"
   ]
  },
  {
   "cell_type": "code",
   "execution_count": null,
   "metadata": {},
   "source": [
    "# Create the visualizations\n",
    "create_visualizations(df)\n",
    "print(\"Visualizations created and saved to the output directory\")"
   ]
  },
  {
   "cell_type": "code",
   "execution_count": null,
   "metadata": {},
   "source": [
    "print(\"Data visualization complete!\")"
   ]
  }
 ],
 "metadata": {
  "kernelspec": {
   "display_name": "Python 3",
   "language": "python",
   "name": "python3"
  },
  "language_info": {
   "codemirror_mode": {
    "name": "ipython",
    "version": 3
   },
   "file_extension": ".py",
   "mimetype": "text/x-python",
   "name": "python",
   "nbconvert_exporter": "python",
   "pygments_lexer": "ipython3",
   "version": "3.8.10"
  }
 },
 "nbformat": 4,
 "nbformat_minor": 4
}
