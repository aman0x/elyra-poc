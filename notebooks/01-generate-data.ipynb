{
 "cells": [
  {
   "cell_type": "markdown",
   "metadata": {},
   "source": [
    "# Data Generation Notebook\n",
    "\n",
    "This notebook generates sample time series weather data for our pipeline."
   ]
  },
  {
   "cell_type": "code",
   "execution_count": null,
   "metadata": {},
   "source": [
    "import pandas as pd\n",
    "import numpy as np\n",
    "import os\n",
    "from datetime import datetime, timedelta\n",
    "\n",
    "print(\"Starting data generation process...\")"
   ]
  },
  {
   "cell_type": "code",
   "execution_count": null,
   "metadata": {},
   "source": [
    "# Create a directory for our data\n",
    "os.makedirs('data', exist_ok=True)\n",
    "print(\"Created data directory\")"
   ]
  },
  {
   "cell_type": "code",
   "execution_count": null,
   "metadata": {},
   "source": [
    "# Generate sample time series data\n",
    "def generate_sample_data(num_days=30):\n",
    "    # Create date range\n",
    "    end_date = datetime.now()\n",
    "    start_date = end_date - timedelta(days=num_days)\n",
    "    date_range = pd.date_range(start=start_date, end=end_date, freq='D')\n",
    "    \n",
    "    # Generate random metrics\n",
    "    np.random.seed(42)  # For reproducibility\n",
    "    temperature = np.random.normal(25, 5, size=len(date_range))\n",
    "    humidity = np.random.normal(60, 10, size=len(date_range))\n",
    "    pressure = np.random.normal(1013, 10, size=len(date_range))\n",
    "    \n",
    "    # Create DataFrame\n",
    "    df = pd.DataFrame({\n",
    "        'date': date_range,\n",
    "        'temperature': temperature,\n",
    "        'humidity': humidity,\n",
    "        'pressure': pressure\n",
    "    })\n",
    "    \n",
    "    return df\n",
    "\n",
    "# Generate the data\n",
    "data = generate_sample_data()\n",
    "print(f\"Generated {len(data)} rows of sample weather data\")\n",
    "print(data.head())"
   ]
  },
  {
   "cell_type": "code",
   "execution_count": null,
   "metadata": {},
   "source": [
    "# Save to CSV\n",
    "output_file = 'data/raw_weather_data.csv'\n",
    "data.to_csv(output_file, index=False)\n",
    "print(f\"Data saved to {output_file}\")"
   ]
  },
  {
   "cell_type": "code",
   "execution_count": null,
   "metadata": {},
   "source": [
    "print(\"Data generation complete!\")"
   ]
  }
 ],
 "metadata": {
  "kernelspec": {
   "display_name": "Python 3",
   "language": "python",
   "name": "python3"
  },
  "language_info": {
   "codemirror_mode": {
    "name": "ipython",
    "version": 3
   },
   "file_extension": ".py",
   "mimetype": "text/x-python",
   "name": "python",
   "nbconvert_exporter": "python",
   "pygments_lexer": "ipython3",
   "version": "3.8.10"
  }
 },
 "nbformat": 4,
 "nbformat_minor": 4
}
