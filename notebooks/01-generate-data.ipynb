{
 "cells": [
  {
   "cell_type": "markdown",
   "metadata": {},
   "source": [
    "# Data Generation Notebook\n",
    "\n",
    "This notebook generates sample time series weather data for our pipeline."
   ]
  },
  {
   "cell_type": "code",
   "execution_count": null,
   "metadata": {},
   "outputs": [],
   "source": [
    "# Cell 1: Import libraries\n",
    "import pandas as pd\n",
    "import numpy as np\n",
    "import random\n",
    "import datetime\n",
    "import boto3\n",
    "from io import StringIO\n",
    "import os"
   ]
  },
  {
   "cell_type": "code",
   "execution_count": null,
   "metadata": {},
   "outputs": [],
   "source": [
    "# Cell 2: Set random seed for reproducibility\n",
    "np.random.seed(42)"
   ]
  },
  {
   "cell_type": "code",
   "execution_count": null,
   "metadata": {},
   "outputs": [],
   "source": [
    "# Cell 3: Generate sample weather data\n",
    "print(\"Generating synthetic weather data...\")\n",
    "\n",
    "# Create date range for the past month\n",
    "end_date = datetime.datetime.now()\n",
    "start_date = end_date - datetime.timedelta(days=30)\n",
    "dates = pd.date_range(start=start_date, end=end_date, freq='H')\n",
    "\n",
    "# Generate random temperature data (°C)\n",
    "temperatures = np.random.normal(loc=22, scale=5, size=len(dates))\n",
    "temperatures = [round(max(min(t, 35), -5), 1) for t in temperatures]  # Bound between -5 and 35°C\n",
    "\n",
    "# Generate humidity data (%)\n",
    "humidities = np.random.normal(loc=60, scale=15, size=len(dates))\n",
    "humidities = [round(max(min(h, 100), 20), 1) for h in humidities]  # Bound between 20 and 100%\n",
    "\n",
    "# Generate wind speed (km/h)\n",
    "wind_speeds = np.random.lognormal(mean=1.5, sigma=0.5, size=len(dates))\n",
    "wind_speeds = [round(min(w, 100), 1) for w in wind_speeds]  # Cap at 100 km/h\n",
    "\n",
    "# Generate precipitation (mm)\n",
    "precipitation = np.zeros(len(dates))\n",
    "rain_mask = np.random.random(len(dates)) < 0.2  # 20% chance of rain\n",
    "precipitation[rain_mask] = np.random.exponential(scale=5, size=sum(rain_mask))\n",
    "precipitation = [round(p, 1) for p in precipitation]\n",
    "\n",
    "# Create dataframe\n",
    "weather_data = pd.DataFrame({\n",
    "    'date': dates,\n",
    "    'temperature': temperatures,\n",
    "    'humidity': humidities,\n",
    "    'wind_speed': wind_speeds,\n",
    "    'precipitation': precipitation\n",
    "})\n",
    "\n",
    "print(f\"Generated {len(weather_data)} rows of weather data\")\n",
    "print(weather_data.head())"
   ]
  },
  {
   "cell_type": "code",
   "execution_count": null,
   "metadata": {},
   "outputs": [],
   "source": [
    "# Cell 4: Save the data to MinIO\n",
    "try:\n",
    "    # First, try to save locally for debugging\n",
    "    os.makedirs('data', exist_ok=True)\n",
    "    weather_data.to_csv('data/raw_weather_data.csv', index=False)\n",
    "    print(\"Saved data locally to data/raw_weather_data.csv\")\n",
    "    \n",
    "    # Now save to MinIO\n",
    "    # Set up the MinIO/S3 client\n",
    "    s3_client = boto3.client(\n",
    "        's3',\n",
    "        endpoint_url='http://minio.minio-system.svc.cluster.local:9000',\n",
    "        aws_access_key_id='minio', \n",
    "        aws_secret_access_key='minio123',\n",
    "        region_name='us-east-1'  # Can be any region, doesn't matter for MinIO\n",
    "    )\n",
    "    \n",
    "    # Convert dataframe to CSV string\n",
    "    csv_buffer = StringIO()\n",
    "    weather_data.to_csv(csv_buffer, index=False)\n",
    "    \n",
    "    # Upload to MinIO\n",
    "    s3_client.put_object(\n",
    "        Bucket='elyra-airflow',\n",
    "        Key='weather-dataprocessing-0519232703/raw_weather_data.csv',\n",
    "        Body=csv_buffer.getvalue()\n",
    "    )\n",
    "    print(\"Successfully saved raw_weather_data.csv to MinIO\")\n",
    "    \n",
    "except Exception as e:\n",
    "    print(f\"Error saving to MinIO: {e}\")"
   ]
  }
 ],
 "metadata": {
  "kernelspec": {
   "display_name": "Python 3 (ipykernel)",
   "language": "python",
   "name": "python3"
  },
  "language_info": {
   "codemirror_mode": {
    "name": "ipython",
    "version": 3
   },
   "file_extension": ".py",
   "mimetype": "text/x-python",
   "name": "python",
   "nbconvert_exporter": "python",
   "pygments_lexer": "ipython3",
   "version": "3.9.7"
  }
 },
 "nbformat": 4,
 "nbformat_minor": 4
}
